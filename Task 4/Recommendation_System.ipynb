{
  "nbformat": 4,
  "nbformat_minor": 0,
  "metadata": {
    "colab": {
      "provenance": []
    },
    "kernelspec": {
      "name": "python3",
      "display_name": "Python 3"
    },
    "language_info": {
      "name": "python"
    }
  },
  "cells": [
    {
      "cell_type": "code",
      "execution_count": 2,
      "metadata": {
        "id": "skJIYVoM0UiG"
      },
      "outputs": [],
      "source": [
        "#Importing the required libraries\n",
        "import pandas as pd\n",
        "import numpy as np\n",
        "from surprise import Dataset, Reader, SVD\n",
        "from surprise.model_selection import train_test_split, cross_validate\n",
        "import pickle"
      ]
    },
    {
      "cell_type": "code",
      "source": [
        "#Loading the required dataset and reading it\n",
        "ratings = pd.read_csv(\"movie_data.csv\")\n",
        "movies = pd.read_csv(\"Movie_Id_Titles.csv\")\n",
        "\n",
        "print(ratings.head())\n",
        "print(movies.head())\n"
      ],
      "metadata": {
        "colab": {
          "base_uri": "https://localhost:8080/"
        },
        "id": "3XP7_mUg0dqw",
        "outputId": "cc154e0e-da44-47fa-eaa9-36ad20ece6c6"
      },
      "execution_count": 3,
      "outputs": [
        {
          "output_type": "stream",
          "name": "stdout",
          "text": [
            "   user_id  item_id  rating  timestamp\n",
            "0        0       50       5  881250949\n",
            "1        0      172       5  881250949\n",
            "2        0      133       1  881250949\n",
            "3      196      242       3  881250949\n",
            "4      186      302       3  891717742\n",
            "   item_id              title\n",
            "0        1   Toy Story (1995)\n",
            "1        2   GoldenEye (1995)\n",
            "2        3  Four Rooms (1995)\n",
            "3        4  Get Shorty (1995)\n",
            "4        5     Copycat (1995)\n"
          ]
        }
      ]
    },
    {
      "cell_type": "code",
      "source": [
        "#Merge the columns of the dataset\n",
        "data = pd.merge(ratings, movies, on=\"item_id\")"
      ],
      "metadata": {
        "id": "XsPuQjYh1ONd"
      },
      "execution_count": 5,
      "outputs": []
    },
    {
      "cell_type": "code",
      "metadata": {
        "id": "b20bc64a"
      },
      "source": [
        "reader = Reader(rating_scale=(0.5, 5.0))  # Set based on actual rating scale\n",
        "surprise_data = Dataset.load_from_df(data[['user_id', 'item_id', 'rating']], reader)"
      ],
      "execution_count": 8,
      "outputs": []
    },
    {
      "cell_type": "code",
      "metadata": {
        "colab": {
          "base_uri": "https://localhost:8080/"
        },
        "id": "e7ce7fbf",
        "outputId": "96076140-a16d-41d8-c1b4-c8cebddfb459"
      },
      "source": [
        "from surprise.model_selection import train_test_split\n",
        "from surprise import SVD\n",
        "\n",
        "trainset, testset = train_test_split(surprise_data, test_size=0.2, random_state=42)\n",
        "\n",
        "model = SVD()\n",
        "model.fit(trainset)\n"
      ],
      "execution_count": 9,
      "outputs": [
        {
          "output_type": "execute_result",
          "data": {
            "text/plain": [
              "<surprise.prediction_algorithms.matrix_factorization.SVD at 0x7adbf8c5eb10>"
            ]
          },
          "metadata": {},
          "execution_count": 9
        }
      ]
    },
    {
      "cell_type": "code",
      "source": [
        "from surprise.model_selection import cross_validate\n",
        "\n",
        "results = cross_validate(model, surprise_data, measures=['RMSE', 'MAE'], cv=5, verbose=True)\n"
      ],
      "metadata": {
        "colab": {
          "base_uri": "https://localhost:8080/"
        },
        "id": "vfmUYViC6XMe",
        "outputId": "84f2b934-3bba-47a4-a45f-85e94e005b97"
      },
      "execution_count": 10,
      "outputs": [
        {
          "output_type": "stream",
          "name": "stdout",
          "text": [
            "Evaluating RMSE, MAE of algorithm SVD on 5 split(s).\n",
            "\n",
            "                  Fold 1  Fold 2  Fold 3  Fold 4  Fold 5  Mean    Std     \n",
            "RMSE (testset)    0.9365  0.9328  0.9356  0.9309  0.9365  0.9344  0.0022  \n",
            "MAE (testset)     0.7399  0.7346  0.7375  0.7340  0.7373  0.7367  0.0021  \n",
            "Fit time          1.86    1.42    1.44    1.42    1.97    1.62    0.24    \n",
            "Test time         0.11    0.13    0.11    0.23    0.17    0.15    0.05    \n"
          ]
        }
      ]
    },
    {
      "cell_type": "code",
      "source": [
        "prediction = model.predict(uid=1, iid=31)  # Example: user 1, movieId 31\n",
        "print(prediction.est)\n"
      ],
      "metadata": {
        "colab": {
          "base_uri": "https://localhost:8080/"
        },
        "id": "f1mwGq9V6sFB",
        "outputId": "a1c52a5f-5d64-493d-9008-aa0b4380baa6"
      },
      "execution_count": 11,
      "outputs": [
        {
          "output_type": "stream",
          "name": "stdout",
          "text": [
            "3.714357107702041\n"
          ]
        }
      ]
    },
    {
      "cell_type": "code",
      "source": [
        "from collections import defaultdict\n",
        "\n",
        "def get_top_n(predictions, n=10):\n",
        "    top_n = defaultdict(list)\n",
        "    for uid, iid, true_r, est, _ in predictions:\n",
        "        top_n[uid].append((iid, est))\n",
        "\n",
        "    # Sort and get top N\n",
        "    for uid, user_ratings in top_n.items():\n",
        "        user_ratings.sort(key=lambda x: x[1], reverse=True)\n",
        "        top_n[uid] = user_ratings[:n]\n",
        "\n",
        "    return top_n\n",
        "\n",
        "# Predict for all pairs\n",
        "testset_all = trainset.build_anti_testset()\n",
        "predictions = model.test(testset_all)\n",
        "top_n = get_top_n(predictions, n=10)\n",
        "\n",
        "# Show top 10 for user 1\n",
        "user_1_top = top_n[1]\n",
        "print(\"Top 10 recommendations for User 1:\")\n",
        "for movie_id, score in user_1_top:\n",
        "    title = movies[movies['item_id'] == int(movie_id)]['title'].values[0]\n",
        "    print(f\"{title} (Predicted rating: {score:.2f})\")"
      ],
      "metadata": {
        "colab": {
          "base_uri": "https://localhost:8080/"
        },
        "id": "g0-CnPhb60-_",
        "outputId": "1828083f-9e76-4432-ef8b-4721122dd420"
      },
      "execution_count": 13,
      "outputs": [
        {
          "output_type": "stream",
          "name": "stdout",
          "text": [
            "Top 10 recommendations for User 1:\n",
            "Schindler's List (1993) (Predicted rating: 4.81)\n",
            "Henry V (1989) (Predicted rating: 4.72)\n",
            "Casablanca (1942) (Predicted rating: 4.70)\n",
            "Godfather, The (1972) (Predicted rating: 4.64)\n",
            "Amadeus (1984) (Predicted rating: 4.64)\n",
            "Return of the Jedi (1983) (Predicted rating: 4.61)\n",
            "Glory (1989) (Predicted rating: 4.58)\n",
            "Fargo (1996) (Predicted rating: 4.56)\n",
            "Some Folks Call It a Sling Blade (1993) (Predicted rating: 4.56)\n",
            "Close Shave, A (1995) (Predicted rating: 4.56)\n"
          ]
        }
      ]
    },
    {
      "cell_type": "code",
      "source": [
        "import pickle\n",
        "\n",
        "with open(\"svd_model.pkl\", \"wb\") as f:\n",
        "    pickle.dump(model, f)\n"
      ],
      "metadata": {
        "id": "3Cryrees7MOA"
      },
      "execution_count": 14,
      "outputs": []
    }
  ]
}